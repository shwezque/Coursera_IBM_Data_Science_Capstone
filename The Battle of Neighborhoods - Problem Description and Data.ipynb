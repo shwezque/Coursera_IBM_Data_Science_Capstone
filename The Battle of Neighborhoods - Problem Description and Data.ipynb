{
 "cells": [
  {
   "cell_type": "markdown",
   "metadata": {},
   "source": [
    "# Where to Live in Wellington, NZ?\n",
    "\n",
    "## I. Introduction\n",
    "\n",
    "### A. Background\n",
    "\n",
    "New Zealand's early success in crushing the curve of the coronavirus disease 2019 (COVID-19) has made waves all over the world. By July 2, 2020, New Zealand has recorded 1,180 confirmed cases of COVID-19 with only 22 deaths since its first case on February 28. The country's Director-General of Health Dr. Ashley Bloomfield said that their strategy is based on speedy testing, contract tracing and isolation, and rigorously adhering to public health guidance ([WHO](https://www.who.int/westernpacific/news/feature-stories/detail/new-zealand-takes-early-and-hard-action-to-tackle-covid-19)). Despite similar measures being enforced in other countries, the results are quite the opposite. People are generally faulting their respective governments for ineffectively handling the current crisis, and are looking at options on how not to experience this \"government failure\" all over again should another unprecedented crisis hit. \n",
    "\n",
    "### B. Target Audience\n",
    "\n",
    "Since the coronavirus pandemic took hold this year, more than 250,000 Americans have investigated whether they qualify to move to New Zealand. In June alone, 112,800 more Americans visited New Zealand's immigration website compared to same time last year. This is a 160% spike and is equivalent to one American clicking on the site every 30 seconds ([NZ Herald](https://www.nzherald.co.nz/nz/news/article.cfm?c_id=1&objectid=12351693&utm_source=fark&utm_medium=website&utm_content=link&ICID=ref_fark)). Given the comparative statistics between the two countries, this general sentiment is not surprising. \n",
    "\n",
    "### C. Business Problem\n",
    "\n",
    "This report aims to help people who are looking to move to New Zealand's capital, Wellington, to decide which urban district to move into based on the cost, population, and general closest venues of relevance (supermarkets, restaurants, parks, etc.), among other factors. "
   ]
  },
  {
   "cell_type": "markdown",
   "metadata": {},
   "source": [
    "## II. Data\n",
    "\n",
    "* **List of Urban Areas and Population** \n",
    "    - Source: [Wikipedia](https://en.wikipedia.org/wiki/Wellington_Region)\n",
    "    - Description: This is the masterlist of the urban areas in Wellington, with their corresponding population\n",
    "    - Example: Wellington, Lower Hutt, Porirua, Upper Hutt, Paraparamu\n",
    "* **Median Rent Data** \n",
    "    - Source: [Tenancy Bond Service of the Department of Building and Housing via Interest](https://www.interest.co.nz/charts/real-estate/median-rents-wellington)\n",
    "    - Description: In the absence of a more comprehensive and publicly available property price data for each Wellington district, this is used as proxy.\n",
    "    - Example: Wellington: 532, Kapiti Coast: 437, Porirua: 550, Upper Hutt: 465, Lower Hutt: 485\n",
    "* **Closest Venues of Relevance** \n",
    "    - Source: [Foursquare API](https://developer.foursquare.com/)\n",
    "    - Description: This is used to identify the closest venues for relevance.\n",
    "    - Example: supermarkets, restaurants, parks\n",
    "\n",
    "\n"
   ]
  },
  {
   "cell_type": "code",
   "execution_count": null,
   "metadata": {},
   "outputs": [],
   "source": []
  }
 ],
 "metadata": {
  "kernelspec": {
   "display_name": "Python 3",
   "language": "python",
   "name": "python3"
  },
  "language_info": {
   "codemirror_mode": {
    "name": "ipython",
    "version": 3
   },
   "file_extension": ".py",
   "mimetype": "text/x-python",
   "name": "python",
   "nbconvert_exporter": "python",
   "pygments_lexer": "ipython3",
   "version": "3.8.3"
  }
 },
 "nbformat": 4,
 "nbformat_minor": 4
}
